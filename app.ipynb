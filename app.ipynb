{
 "cells": [
  {
   "cell_type": "code",
   "execution_count": 57,
   "id": "f08dcdd2",
   "metadata": {},
   "outputs": [],
   "source": [
    "#!pip install panel"
   ]
  },
  {
   "cell_type": "code",
   "execution_count": 4,
   "id": "66f954fc",
   "metadata": {},
   "outputs": [],
   "source": [
    "import pandas as pd\n",
    "from datetime import date\n",
    "import numpy as np\n",
    "import matplotlib.pyplot as plt\n",
    "import panel as pn"
   ]
  },
  {
   "cell_type": "code",
   "execution_count": 8,
   "id": "c9f3543f",
   "metadata": {},
   "outputs": [],
   "source": [
    "df_weather=pd.read_csv('weather.csv')\n",
    "df=df_weather.copy()"
   ]
  },
  {
   "cell_type": "code",
   "execution_count": 9,
   "id": "da73447f",
   "metadata": {},
   "outputs": [],
   "source": [
    "#conveting to datetime format and dropping rows without dates\n",
    "df=df.dropna(subset=['Päivämäärä'])\n",
    "df['Päivämäärä']=pd.to_datetime(df['Päivämäärä'],format=\"%d/%m/%Y\")\n",
    "df['month']=df['Päivämäärä'].dt.month\n",
    "df['year']=df['Päivämäärä'].dt.year\n",
    "df['day']=df['Päivämäärä'].dt.day\n",
    "df['month']=df['month'].astype(int)\n",
    "\n",
    "\n",
    "my_dict={'-':np.nan,'nan':np.nan}\n",
    "df['Lämpötila']=df['Lämpötila'].replace(my_dict)\n",
    "df['Lämpötila']=df['Lämpötila'].astype(int,errors='ignore')\n",
    "\n",
    "\n",
    "#getting today's date and corresponding month\n",
    "today=date.today()\n",
    "today_day=today.day\n",
    "today_month=today.month"
   ]
  },
  {
   "cell_type": "code",
   "execution_count": 14,
   "id": "a3b3ecd2",
   "metadata": {},
   "outputs": [
    {
     "data": {
      "text/plain": [
       "array(['21', '20', '8', nan, '15', '17', '18', '10', '25', '24', '22',\n",
       "       '14', '13', '3', '5', '6', '11', '9', '7', '19', '16', '23', '12',\n",
       "       '26', '2', '0', '-2', '1', '-4', '-3', '-13', '-6', '-5', '-17',\n",
       "       '-18', '-23', '-7', '-9', '-10', '-1', '-8', '-28', '-30', '-12',\n",
       "       '-22', '-14', '-20', '-16', '-33', '-36', '-21', '-24', '-15', '4',\n",
       "       '-25', '28', '30', '32', '31', '27', '-11', '-19', '-26', '-35',\n",
       "       '-29', '-27', '29', '-31', '-32', '-34', '-37', '-5.6', '-2.5',\n",
       "       '-1.9', '-7.6', '-1.3', '-5.5', '-1.5', '-0.5', '-1.4', '-0.8',\n",
       "       '-5.4', '2.5', '-8.7', '-6.7', '-34.4', '-29.7', '1.9', '-1.2',\n",
       "       '-13.3', '-9.2', '9.8', '-3.5', '2.3', '0.5', '0.8', '3.5', '-4.5',\n",
       "       '0.4', '-1.8', '-9.5', '-7.2', '1.5', '2.2', '-18.5', '-8.5',\n",
       "       '-6.5', '-6.9', '0.3', '-0.3', '2.9', '4.5', '8.5', '-8.4', '-7.5',\n",
       "       '-7.8', '-2.4', '2.6', '-4.8', '-1.6', '-4.2', '1.3', '-6.4',\n",
       "       '-5.8', '-15.5', '-23.5', '-30.8', '22.5', '13.5', '12.5', '7.5',\n",
       "       '-10.5', '-11.4', '-5.3', '-3.4', '-2.8', '-2.6', '-26.4', '-17.4',\n",
       "       '-14.5', '-13.5', '4.3', '17.5', '6.5', '-6.3', '-12.5', '4.4'],\n",
       "      dtype=object)"
      ]
     },
     "execution_count": 14,
     "metadata": {},
     "output_type": "execute_result"
    }
   ],
   "source": [
    "df['Lämpötila'].unique()"
   ]
  },
  {
   "cell_type": "code",
   "execution_count": 10,
   "id": "45daba03",
   "metadata": {},
   "outputs": [
    {
     "data": {
      "text/html": [
       "<div>\n",
       "<style scoped>\n",
       "    .dataframe tbody tr th:only-of-type {\n",
       "        vertical-align: middle;\n",
       "    }\n",
       "\n",
       "    .dataframe tbody tr th {\n",
       "        vertical-align: top;\n",
       "    }\n",
       "\n",
       "    .dataframe thead th {\n",
       "        text-align: right;\n",
       "    }\n",
       "</style>\n",
       "<table border=\"1\" class=\"dataframe\">\n",
       "  <thead>\n",
       "    <tr style=\"text-align: right;\">\n",
       "      <th></th>\n",
       "      <th>Päivämäärä</th>\n",
       "      <th>Aamu lämpötila</th>\n",
       "      <th>Iltalämpötila</th>\n",
       "      <th>Lämpötila</th>\n",
       "      <th>Vesisadetta</th>\n",
       "      <th>Lumisadetta</th>\n",
       "      <th>Räntäsade</th>\n",
       "      <th>Ukkosta</th>\n",
       "      <th>Pilvistä</th>\n",
       "      <th>Puoli-pilvistä</th>\n",
       "      <th>Aurinkoista</th>\n",
       "      <th>Kova tuuli</th>\n",
       "      <th>Kylmä tuuli</th>\n",
       "      <th>Myrsky</th>\n",
       "      <th>Muita havaintoja</th>\n",
       "      <th>month</th>\n",
       "      <th>year</th>\n",
       "      <th>day</th>\n",
       "    </tr>\n",
       "  </thead>\n",
       "  <tbody>\n",
       "    <tr>\n",
       "      <th>361</th>\n",
       "      <td>1994-04-27</td>\n",
       "      <td>NaN</td>\n",
       "      <td>NaN</td>\n",
       "      <td>10</td>\n",
       "      <td>False</td>\n",
       "      <td>False</td>\n",
       "      <td>False</td>\n",
       "      <td>False</td>\n",
       "      <td>False</td>\n",
       "      <td>False</td>\n",
       "      <td>False</td>\n",
       "      <td>False</td>\n",
       "      <td>FALSE</td>\n",
       "      <td>False</td>\n",
       "      <td>NaN</td>\n",
       "      <td>4</td>\n",
       "      <td>1994</td>\n",
       "      <td>27</td>\n",
       "    </tr>\n",
       "    <tr>\n",
       "      <th>726</th>\n",
       "      <td>1995-04-27</td>\n",
       "      <td>-4</td>\n",
       "      <td>NaN</td>\n",
       "      <td>NaN</td>\n",
       "      <td>False</td>\n",
       "      <td>False</td>\n",
       "      <td>False</td>\n",
       "      <td>False</td>\n",
       "      <td>False</td>\n",
       "      <td>False</td>\n",
       "      <td>False</td>\n",
       "      <td>False</td>\n",
       "      <td>FALSE</td>\n",
       "      <td>False</td>\n",
       "      <td>NaN</td>\n",
       "      <td>4</td>\n",
       "      <td>1995</td>\n",
       "      <td>27</td>\n",
       "    </tr>\n",
       "    <tr>\n",
       "      <th>1092</th>\n",
       "      <td>1996-04-27</td>\n",
       "      <td>NaN</td>\n",
       "      <td>NaN</td>\n",
       "      <td>0</td>\n",
       "      <td>False</td>\n",
       "      <td>False</td>\n",
       "      <td>False</td>\n",
       "      <td>False</td>\n",
       "      <td>False</td>\n",
       "      <td>False</td>\n",
       "      <td>False</td>\n",
       "      <td>False</td>\n",
       "      <td>FALSE</td>\n",
       "      <td>False</td>\n",
       "      <td>NaN</td>\n",
       "      <td>4</td>\n",
       "      <td>1996</td>\n",
       "      <td>27</td>\n",
       "    </tr>\n",
       "    <tr>\n",
       "      <th>1457</th>\n",
       "      <td>1997-04-27</td>\n",
       "      <td>NaN</td>\n",
       "      <td>NaN</td>\n",
       "      <td>4</td>\n",
       "      <td>False</td>\n",
       "      <td>False</td>\n",
       "      <td>False</td>\n",
       "      <td>False</td>\n",
       "      <td>False</td>\n",
       "      <td>False</td>\n",
       "      <td>True</td>\n",
       "      <td>False</td>\n",
       "      <td>TRUE</td>\n",
       "      <td>False</td>\n",
       "      <td>NaN</td>\n",
       "      <td>4</td>\n",
       "      <td>1997</td>\n",
       "      <td>27</td>\n",
       "    </tr>\n",
       "    <tr>\n",
       "      <th>1822</th>\n",
       "      <td>1998-04-27</td>\n",
       "      <td>4</td>\n",
       "      <td>12.0</td>\n",
       "      <td>NaN</td>\n",
       "      <td>False</td>\n",
       "      <td>False</td>\n",
       "      <td>False</td>\n",
       "      <td>False</td>\n",
       "      <td>False</td>\n",
       "      <td>False</td>\n",
       "      <td>False</td>\n",
       "      <td>False</td>\n",
       "      <td>FALSE</td>\n",
       "      <td>False</td>\n",
       "      <td>NaN</td>\n",
       "      <td>4</td>\n",
       "      <td>1998</td>\n",
       "      <td>27</td>\n",
       "    </tr>\n",
       "  </tbody>\n",
       "</table>\n",
       "</div>"
      ],
      "text/plain": [
       "     Päivämäärä Aamu lämpötila  Iltalämpötila Lämpötila Vesisadetta  \\\n",
       "361  1994-04-27            NaN            NaN        10       False   \n",
       "726  1995-04-27             -4            NaN       NaN       False   \n",
       "1092 1996-04-27            NaN            NaN         0       False   \n",
       "1457 1997-04-27            NaN            NaN         4       False   \n",
       "1822 1998-04-27              4           12.0       NaN       False   \n",
       "\n",
       "      Lumisadetta  Räntäsade Ukkosta  Pilvistä  Puoli-pilvistä Aurinkoista  \\\n",
       "361         False      False   False     False           False       False   \n",
       "726         False      False   False     False           False       False   \n",
       "1092        False      False   False     False           False       False   \n",
       "1457        False      False   False     False           False        True   \n",
       "1822        False      False   False     False           False       False   \n",
       "\n",
       "     Kova tuuli Kylmä tuuli Myrsky Muita havaintoja  month  year  day  \n",
       "361       False       FALSE  False              NaN      4  1994   27  \n",
       "726       False       FALSE  False              NaN      4  1995   27  \n",
       "1092      False       FALSE  False              NaN      4  1996   27  \n",
       "1457      False        TRUE  False              NaN      4  1997   27  \n",
       "1822      False       FALSE  False              NaN      4  1998   27  "
      ]
     },
     "execution_count": 10,
     "metadata": {},
     "output_type": "execute_result"
    }
   ],
   "source": [
    "df_temp=df[(df['month']==today_month) & (df['day']==today_day)]\n",
    "df_temp.head()"
   ]
  },
  {
   "cell_type": "code",
   "execution_count": 56,
   "id": "2c0568ee",
   "metadata": {},
   "outputs": [
    {
     "name": "stdout",
     "output_type": "stream",
     "text": [
      "361     1994\n",
      "1092    1996\n",
      "1457    1997\n",
      "2187    1999\n",
      "2918    2001\n",
      "3283    2002\n",
      "4744    2006\n",
      "Name: year, dtype: int32 726     1995\n",
      "1822    1998\n",
      "2553    2000\n",
      "3648    2003\n",
      "4014    2004\n",
      "4379    2005\n",
      "Name: year, dtype: int32\n"
     ]
    },
    {
     "data": {
      "text/plain": [
       "<function matplotlib.pyplot.show(close=None, block=None)>"
      ]
     },
     "execution_count": 56,
     "metadata": {},
     "output_type": "execute_result"
    },
    {
     "data": {
      "image/png": "[encoded data removed]",
      "text/plain": [
       "<Figure size 1000x1000 with 1 Axes>"
      ]
     },
     "metadata": {},
     "output_type": "display_data"
    }
   ],
   "source": [
    "#df_temp.plot(x='year', y='Lämpötila',kind='bar')\n",
    "#df_temp['year']=df_temp['year'].astype(str)\n",
    "#Lampotila\n",
    "plt.figure(figsize=(10,10))\n",
    "temperature_df=df_temp.dropna(subset='Lämpötila')\n",
    "year=temperature_df['year']\n",
    "lampotila=temperature_df['Lämpötila'].astype(int)\n",
    "\n",
    "\n",
    "#aamulampotila\n",
    "aamu_df=df_temp.dropna(subset='Aamu lämpötila')\n",
    "year_aamu=aamu_df['year']\n",
    "aamulampotila=aamu_df['Aamu lämpötila'].astype(int)\n",
    "\n",
    "#iltalampotila\n",
    "ilta_df=df_temp.dropna(subset='Iltalämpötila')\n",
    "year_ilta=ilta_df['year']\n",
    "iltalampotila=ilta_df['Iltalämpötila'].astype(int)\n",
    "\n",
    "print(year,year_aamu)\n",
    "#plt.barh(year-0.2, lampotila,label='Lämpötila')\n",
    "plt.bar_label(plt.barh(year_aamu+0.15, aamulampotila,0.4, label='Aamulämpötila'))\n",
    "plt.bar_label(plt.barh(year, lampotila,0.4,label='Lämpötila'))\n",
    "plt.bar_label(plt.barh(year_ilta-0.15, iltalampotila,0.4,label='iltalämpötila'))\n",
    "\n",
    "#plt.yticks(df_temp['year'])\n",
    "plt.legend()\n",
    "plt.grid(color='black', linewidth=1, axis='y', alpha=0.2)\n",
    "plt.show\n",
    "#plt.plot(df_temp['year'],df_temp['Lämpötila'])\n",
    "#fig, ax = plt.subplots(figsize =(16, 9))\n",
    "#ax.barh(year,temperature)"
   ]
  },
  {
   "cell_type": "code",
   "execution_count": 11,
   "id": "8b117f64-e519-4f86-9f0c-e1be0e927eae",
   "metadata": {},
   "outputs": [],
   "source": [
    "def get_plot(df_temp):\n",
    "    plt.figure(figsize=(10,10))\n",
    "    temperature_df=df_temp.dropna(subset='Lämpötila')\n",
    "    year=temperature_df['year']\n",
    "    lampotila=temperature_df['Lämpötila'].astype(int)\n",
    "\n",
    "\n",
    "    #aamulampotila\n",
    "    aamu_df=df_temp.dropna(subset='Aamu lämpötila')\n",
    "    year_aamu=aamu_df['year']\n",
    "    aamulampotila=aamu_df['Aamu lämpötila'].astype(int)\n",
    "    \n",
    "    #iltalampotila\n",
    "    ilta_df=df_temp.dropna(subset='Iltalämpötila')\n",
    "    year_ilta=ilta_df['year']\n",
    "    iltalampotila=ilta_df['Iltalämpötila'].astype(int)\n",
    "\n",
    "    #plt.barh(year-0.2, lampotila,label='Lämpötila')\n",
    "    plt.bar_label(plt.barh(year_aamu+0.15, aamulampotila,0.4, label='Aamulämpötila'))\n",
    "    plt.bar_label(plt.barh(year, lampotila,0.4,label='Lämpötila'))\n",
    "    plt.bar_label(plt.barh(year_ilta-0.15, iltalampotila,0.4,label='iltalämpötila'))\n",
    "\n",
    "    #plt.yticks(df_temp['year'])\n",
    "    plt.legend()\n",
    "    plt.grid(color='black', linewidth=1, axis='y', alpha=0.2)\n",
    "    plt.show"
   ]
  },
  {
   "cell_type": "code",
   "execution_count": 21,
   "id": "6109ff19-20bc-46f9-a86f-7a337eb6f49f",
   "metadata": {},
   "outputs": [
    {
     "ename": "SyntaxError",
     "evalue": "invalid syntax (464770758.py, line 8)",
     "output_type": "error",
     "traceback": [
      "\u001b[0;36m  Cell \u001b[0;32mIn[21], line 8\u001b[0;36m\u001b[0m\n\u001b[0;31m    panel serve app.ipynb --autoreload\u001b[0m\n\u001b[0m          ^\u001b[0m\n\u001b[0;31mSyntaxError\u001b[0m\u001b[0;31m:\u001b[0m invalid syntax\n"
     ]
    }
   ],
   "source": [
    "pn.extension()\n",
    "bound_plot = get_plot(df_temp)\n",
    "pn.template.MaterialTemplate(\n",
    "    site=\"Panel\",\n",
    "    title=\"Getting Started App\",\n",
    "    main=[bound_plot],\n",
    ").servable()\n",
    "panel serve app.ipynb --autoreload"
   ]
  },
  {
   "cell_type": "code",
   "execution_count": 19,
   "id": "54c44b54-629b-49a7-be58-440058d2eead",
   "metadata": {},
   "outputs": [
    {
     "ename": "SyntaxError",
     "evalue": "invalid syntax (3272685888.py, line 1)",
     "output_type": "error",
     "traceback": [
      "\u001b[0;36m  Cell \u001b[0;32mIn[19], line 1\u001b[0;36m\u001b[0m\n\u001b[0;31m    panel serve app.ipynb --autoreload\u001b[0m\n\u001b[0m          ^\u001b[0m\n\u001b[0;31mSyntaxError\u001b[0m\u001b[0;31m:\u001b[0m invalid syntax\n"
     ]
    }
   ],
   "source": [
    "panel serve app.ipynb --autoreload"
   ]
  }
 ],
 "metadata": {
  "kernelspec": {
   "display_name": "Python 3 (ipykernel)",
   "language": "python",
   "name": "python3"
  },
  "language_info": {
   "codemirror_mode": {
    "name": "ipython",
    "version": 3
   },
   "file_extension": ".py",
   "mimetype": "text/x-python",
   "name": "python",
   "nbconvert_exporter": "python",
   "pygments_lexer": "ipython3",
   "version": "3.11.7"
  }
 },
 "nbformat": 4,
 "nbformat_minor": 5
}
